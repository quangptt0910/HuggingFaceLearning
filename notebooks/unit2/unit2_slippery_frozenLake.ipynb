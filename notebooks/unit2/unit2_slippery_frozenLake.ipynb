{
 "cells": [
  {
   "cell_type": "code",
   "execution_count": 3,
   "metadata": {},
   "outputs": [
    {
     "name": "stdout",
     "output_type": "stream",
     "text": [
      "Collecting gymnasium (from -r https://raw.githubusercontent.com/huggingface/deep-rl-class/main/notebooks/unit2/requirements-unit2.txt (line 1))\n",
      "  Using cached gymnasium-1.1.0-py3-none-any.whl.metadata (9.4 kB)\n",
      "Requirement already satisfied: pygame in c:\\users\\ptqua\\appdata\\local\\programs\\python\\python313\\lib\\site-packages (from -r https://raw.githubusercontent.com/huggingface/deep-rl-class/main/notebooks/unit2/requirements-unit2.txt (line 2)) (2.6.1)\n",
      "Requirement already satisfied: numpy in c:\\users\\ptqua\\appdata\\local\\programs\\python\\python313\\lib\\site-packages (from -r https://raw.githubusercontent.com/huggingface/deep-rl-class/main/notebooks/unit2/requirements-unit2.txt (line 3)) (2.2.2)\n",
      "Collecting huggingface_hub (from -r https://raw.githubusercontent.com/huggingface/deep-rl-class/main/notebooks/unit2/requirements-unit2.txt (line 5))\n",
      "  Using cached huggingface_hub-0.29.1-py3-none-any.whl.metadata (13 kB)\n",
      "Collecting pickle5 (from -r https://raw.githubusercontent.com/huggingface/deep-rl-class/main/notebooks/unit2/requirements-unit2.txt (line 6))\n",
      "  Using cached pickle5-0.0.11.tar.gz (132 kB)\n",
      "  Installing build dependencies: started\n",
      "  Installing build dependencies: finished with status 'done'\n",
      "  Getting requirements to build wheel: started\n",
      "  Getting requirements to build wheel: finished with status 'done'\n",
      "  Preparing metadata (pyproject.toml): started\n",
      "  Preparing metadata (pyproject.toml): finished with status 'done'\n",
      "Collecting pyyaml==6.0 (from -r https://raw.githubusercontent.com/huggingface/deep-rl-class/main/notebooks/unit2/requirements-unit2.txt (line 7))\n",
      "  Using cached PyYAML-6.0.tar.gz (124 kB)\n",
      "  Installing build dependencies: started\n",
      "  Installing build dependencies: finished with status 'done'\n",
      "  Getting requirements to build wheel: started\n",
      "  Getting requirements to build wheel: finished with status 'error'\n",
      "Note: you may need to restart the kernel to use updated packages.\n"
     ]
    },
    {
     "name": "stderr",
     "output_type": "stream",
     "text": [
      "  error: subprocess-exited-with-error\n",
      "  \n",
      "  × Getting requirements to build wheel did not run successfully.\n",
      "  │ exit code: 1\n",
      "  ╰─> [65 lines of output]\n",
      "      running egg_info\n",
      "      writing lib\\PyYAML.egg-info\\PKG-INFO\n",
      "      writing dependency_links to lib\\PyYAML.egg-info\\dependency_links.txt\n",
      "      writing top-level names to lib\\PyYAML.egg-info\\top_level.txt\n",
      "      Traceback (most recent call last):\n",
      "        File \"c:\\Users\\ptqua\\AppData\\Local\\Programs\\Python\\Python313\\Lib\\site-packages\\pip\\_vendor\\pyproject_hooks\\_in_process\\_in_process.py\", line 353, in <module>\n",
      "          main()\n",
      "          ~~~~^^\n",
      "        File \"c:\\Users\\ptqua\\AppData\\Local\\Programs\\Python\\Python313\\Lib\\site-packages\\pip\\_vendor\\pyproject_hooks\\_in_process\\_in_process.py\", line 335, in main\n",
      "          json_out['return_val'] = hook(**hook_input['kwargs'])\n",
      "                                   ~~~~^^^^^^^^^^^^^^^^^^^^^^^^\n",
      "        File \"c:\\Users\\ptqua\\AppData\\Local\\Programs\\Python\\Python313\\Lib\\site-packages\\pip\\_vendor\\pyproject_hooks\\_in_process\\_in_process.py\", line 118, in get_requires_for_build_wheel\n",
      "          return hook(config_settings)\n",
      "        File \"C:\\Users\\ptqua\\AppData\\Local\\Temp\\pip-build-env-r2wlpto6\\overlay\\Lib\\site-packages\\setuptools\\build_meta.py\", line 334, in get_requires_for_build_wheel\n",
      "          return self._get_build_requires(config_settings, requirements=[])\n",
      "                 ~~~~~~~~~~~~~~~~~~~~~~~~^^^^^^^^^^^^^^^^^^^^^^^^^^^^^^^^^^\n",
      "        File \"C:\\Users\\ptqua\\AppData\\Local\\Temp\\pip-build-env-r2wlpto6\\overlay\\Lib\\site-packages\\setuptools\\build_meta.py\", line 304, in _get_build_requires\n",
      "          self.run_setup()\n",
      "          ~~~~~~~~~~~~~~^^\n",
      "        File \"C:\\Users\\ptqua\\AppData\\Local\\Temp\\pip-build-env-r2wlpto6\\overlay\\Lib\\site-packages\\setuptools\\build_meta.py\", line 320, in run_setup\n",
      "          exec(code, locals())\n",
      "          ~~~~^^^^^^^^^^^^^^^^\n",
      "        File \"<string>\", line 288, in <module>\n",
      "        File \"C:\\Users\\ptqua\\AppData\\Local\\Temp\\pip-build-env-r2wlpto6\\overlay\\Lib\\site-packages\\setuptools\\__init__.py\", line 117, in setup\n",
      "          return distutils.core.setup(**attrs)\n",
      "                 ~~~~~~~~~~~~~~~~~~~~^^^^^^^^^\n",
      "        File \"C:\\Users\\ptqua\\AppData\\Local\\Temp\\pip-build-env-r2wlpto6\\overlay\\Lib\\site-packages\\setuptools\\_distutils\\core.py\", line 186, in setup\n",
      "          return run_commands(dist)\n",
      "        File \"C:\\Users\\ptqua\\AppData\\Local\\Temp\\pip-build-env-r2wlpto6\\overlay\\Lib\\site-packages\\setuptools\\_distutils\\core.py\", line 202, in run_commands\n",
      "          dist.run_commands()\n",
      "          ~~~~~~~~~~~~~~~~~^^\n",
      "        File \"C:\\Users\\ptqua\\AppData\\Local\\Temp\\pip-build-env-r2wlpto6\\overlay\\Lib\\site-packages\\setuptools\\_distutils\\dist.py\", line 983, in run_commands\n",
      "          self.run_command(cmd)\n",
      "          ~~~~~~~~~~~~~~~~^^^^^\n",
      "        File \"C:\\Users\\ptqua\\AppData\\Local\\Temp\\pip-build-env-r2wlpto6\\overlay\\Lib\\site-packages\\setuptools\\dist.py\", line 999, in run_command\n",
      "          super().run_command(command)\n",
      "          ~~~~~~~~~~~~~~~~~~~^^^^^^^^^\n",
      "        File \"C:\\Users\\ptqua\\AppData\\Local\\Temp\\pip-build-env-r2wlpto6\\overlay\\Lib\\site-packages\\setuptools\\_distutils\\dist.py\", line 1002, in run_command\n",
      "          cmd_obj.run()\n",
      "          ~~~~~~~~~~~^^\n",
      "        File \"C:\\Users\\ptqua\\AppData\\Local\\Temp\\pip-build-env-r2wlpto6\\overlay\\Lib\\site-packages\\setuptools\\command\\egg_info.py\", line 312, in run\n",
      "          self.find_sources()\n",
      "          ~~~~~~~~~~~~~~~~~^^\n",
      "        File \"C:\\Users\\ptqua\\AppData\\Local\\Temp\\pip-build-env-r2wlpto6\\overlay\\Lib\\site-packages\\setuptools\\command\\egg_info.py\", line 320, in find_sources\n",
      "          mm.run()\n",
      "          ~~~~~~^^\n",
      "        File \"C:\\Users\\ptqua\\AppData\\Local\\Temp\\pip-build-env-r2wlpto6\\overlay\\Lib\\site-packages\\setuptools\\command\\egg_info.py\", line 543, in run\n",
      "          self.add_defaults()\n",
      "          ~~~~~~~~~~~~~~~~~^^\n",
      "        File \"C:\\Users\\ptqua\\AppData\\Local\\Temp\\pip-build-env-r2wlpto6\\overlay\\Lib\\site-packages\\setuptools\\command\\egg_info.py\", line 581, in add_defaults\n",
      "          sdist.add_defaults(self)\n",
      "          ~~~~~~~~~~~~~~~~~~^^^^^^\n",
      "        File \"C:\\Users\\ptqua\\AppData\\Local\\Temp\\pip-build-env-r2wlpto6\\overlay\\Lib\\site-packages\\setuptools\\command\\sdist.py\", line 109, in add_defaults\n",
      "          super().add_defaults()\n",
      "          ~~~~~~~~~~~~~~~~~~~~^^\n",
      "        File \"C:\\Users\\ptqua\\AppData\\Local\\Temp\\pip-build-env-r2wlpto6\\overlay\\Lib\\site-packages\\setuptools\\_distutils\\command\\sdist.py\", line 239, in add_defaults\n",
      "          self._add_defaults_ext()\n",
      "          ~~~~~~~~~~~~~~~~~~~~~~^^\n",
      "        File \"C:\\Users\\ptqua\\AppData\\Local\\Temp\\pip-build-env-r2wlpto6\\overlay\\Lib\\site-packages\\setuptools\\_distutils\\command\\sdist.py\", line 324, in _add_defaults_ext\n",
      "          self.filelist.extend(build_ext.get_source_files())\n",
      "                               ~~~~~~~~~~~~~~~~~~~~~~~~~~^^\n",
      "        File \"<string>\", line 204, in get_source_files\n",
      "        File \"C:\\Users\\ptqua\\AppData\\Local\\Temp\\pip-build-env-r2wlpto6\\overlay\\Lib\\site-packages\\setuptools\\_distutils\\cmd.py\", line 120, in __getattr__\n",
      "          raise AttributeError(attr)\n",
      "      AttributeError: cython_sources\n",
      "      [end of output]\n",
      "  \n",
      "  note: This error originates from a subprocess, and is likely not a problem with pip.\n",
      "\n",
      "[notice] A new release of pip is available: 24.3.1 -> 25.0.1\n",
      "[notice] To update, run: python.exe -m pip install --upgrade pip\n",
      "error: subprocess-exited-with-error\n",
      "\n",
      "× Getting requirements to build wheel did not run successfully.\n",
      "│ exit code: 1\n",
      "╰─> See above for output.\n",
      "\n",
      "note: This error originates from a subprocess, and is likely not a problem with pip.\n"
     ]
    }
   ],
   "source": [
    "%pip install -r https://raw.githubusercontent.com/huggingface/deep-rl-class/main/notebooks/unit2/requirements-unit2.txt"
   ]
  },
  {
   "cell_type": "code",
   "execution_count": null,
   "metadata": {},
   "outputs": [
    {
     "name": "stdout",
     "output_type": "stream",
     "text": [
      "Requirement already satisfied: gymnasium in c:\\users\\ptqua\\miniconda3\\envs\\myenv\\lib\\site-packages (1.1.0)\n",
      "Requirement already satisfied: imageio in c:\\users\\ptqua\\miniconda3\\envs\\myenv\\lib\\site-packages (2.37.0)\n",
      "Requirement already satisfied: numpy>=1.21.0 in c:\\users\\ptqua\\miniconda3\\envs\\myenv\\lib\\site-packages (from gymnasium) (1.23.5)\n",
      "Requirement already satisfied: cloudpickle>=1.2.0 in c:\\users\\ptqua\\miniconda3\\envs\\myenv\\lib\\site-packages (from gymnasium) (3.1.1)\n",
      "Requirement already satisfied: typing-extensions>=4.3.0 in c:\\users\\ptqua\\miniconda3\\envs\\myenv\\lib\\site-packages (from gymnasium) (4.12.2)\n",
      "Requirement already satisfied: farama-notifications>=0.0.1 in c:\\users\\ptqua\\miniconda3\\envs\\myenv\\lib\\site-packages (from gymnasium) (0.0.4)\n",
      "Requirement already satisfied: pillow>=8.3.2 in c:\\users\\ptqua\\miniconda3\\envs\\myenv\\lib\\site-packages (from imageio) (11.1.0)\n",
      "Note: you may need to restart the kernel to use updated packages.\n"
     ]
    }
   ],
   "source": [
    "import numpy as np\n",
    "import gymnasium as gym\n",
    "import random\n",
    "import imageio\n",
    "import os\n",
    "import tqdm\n",
    "import pickle\n",
    "import math\n",
    "import numpy as np\n",
    "from tqdm.notebook import tqdm"
   ]
  },
  {
   "cell_type": "code",
   "execution_count": 49,
   "metadata": {},
   "outputs": [
    {
     "name": "stdout",
     "output_type": "stream",
     "text": [
      "There are  16  possible states\n",
      "There are  4  possible actions\n"
     ]
    }
   ],
   "source": [
    "# Create the FrozenLake-v1 environment using 4x4 map and non-slippery version and render_mode=\"rgb_array\"\n",
    "env = gym.make('FrozenLake-v1',map_name=\"4x4\",is_slippery=True, render_mode=\"rgb_array\") \n",
    "\n",
    "state_space = env.observation_space.n\n",
    "print(\"There are \", state_space, \" possible states\")\n",
    "\n",
    "action_space = env.action_space.n\n",
    "print(\"There are \", action_space, \" possible actions\")"
   ]
  },
  {
   "cell_type": "code",
   "execution_count": 86,
   "metadata": {},
   "outputs": [],
   "source": [
    "def initialize_q_table(state_space, action_space):\n",
    "  Qtable = np.zeros((state_space, action_space))\n",
    "  #Qtable = np.full((state_space, action_space), 1.0)\n",
    "  return Qtable\n"
   ]
  },
  {
   "cell_type": "code",
   "execution_count": 95,
   "metadata": {},
   "outputs": [],
   "source": [
    "Qtable_frozenlake = initialize_q_table(state_space, action_space)"
   ]
  },
  {
   "cell_type": "code",
   "execution_count": null,
   "metadata": {},
   "outputs": [],
   "source": [
    "# Training parameters\n",
    "n_training_episodes = 10000  # Total training episodes\n",
    "learning_rate = 0.1          # Learning rate\n",
    "\n",
    "# Evaluation parameters\n",
    "n_eval_episodes = 1000       # Total number of test episodes\n",
    "\n",
    "# Environment parameters\n",
    "env_id = \"FrozenLake-v1\"     # Name of the environment\n",
    "max_steps = 999               # Max steps per episode\n",
    "gamma = 0.99                 # Discounting rate\n",
    "eval_seed = []               # The evaluation seed of the environment\n",
    "\n",
    "# Boltzmann exploration parameters\n",
    "init_temp = 1.0           # initial temperature (high for more exploration)\n",
    "min_temp = 0.001            # minimum temperature\n",
    "temp_decay = 0.0005          # temperature decay rate"
   ]
  },
  {
   "cell_type": "code",
   "execution_count": 97,
   "metadata": {},
   "outputs": [],
   "source": [
    "# Boltzmann exploration for the slippery / stochochastic policy \n",
    "def boltzmann_exploration(state, Qtable, temperature):\n",
    "    \"\"\"\n",
    "    Select an action using Boltzmann exploration strategy\n",
    "    \n",
    "    Args:\n",
    "        state: The current state\n",
    "        Qtable: Dictionary or array of Q-values for each action in current state\n",
    "        temperature: Temperature parameter controlling exploration (τ)\n",
    "        \n",
    "    Returns:\n",
    "        Selected action\n",
    "    \"\"\"\n",
    "    # Get Q-values for all actions in current state\n",
    "    action_values = Qtable[state]\n",
    "    \n",
    "    # Avoid numerical instability by subtracting max value (doesn't change softmax result)\n",
    "    max_value = np.max(action_values)\n",
    "    exp_values = np.exp((action_values - max_value) / temperature)\n",
    "    \n",
    "    # Calculate softmax probabilities\n",
    "    probabilities = exp_values / np.sum(exp_values)\n",
    "    \n",
    "    \n",
    "    # Select action based on the calculated probabilities\n",
    "    return np.random.choice(range(len(action_values)), p=probabilities)"
   ]
  },
  {
   "cell_type": "code",
   "execution_count": 98,
   "metadata": {},
   "outputs": [],
   "source": [
    "def train_boltzmann(n_training_episodes, min_temperature, initial_temperature, temperature_decay, env, max_steps, Qtable, learning_rate, gamma):\n",
    "    \"\"\"\n",
    "    Train the agent using Q-learning with Boltzmann exploration\n",
    "    \"\"\"\n",
    "    for episode in tqdm(range(n_training_episodes)):\n",
    "        # Reduce temperature (because we need less and less exploration)\n",
    "        # temperature = min_temperature + (initial_temperature - min_temperature) * np.exp(-temperature_decay * episode)\n",
    "        temperature = max(min_temperature, initial_temperature * np.exp(-temperature_decay * episode))\n",
    "        \n",
    "        # Reset the environment\n",
    "        state, info = env.reset()\n",
    "        terminated = False\n",
    "        truncated = False\n",
    "\n",
    "        # repeat for each step\n",
    "        for step in range(max_steps):\n",
    "            # Choose the action using Boltzmann policy\n",
    "            action = boltzmann_exploration(state, Qtable, temperature)\n",
    "\n",
    "            # Take action and observe the outcome state and reward\n",
    "            new_state, reward, terminated, truncated, info = env.step(action)\n",
    "\n",
    "            # Update Q(s,a):= Q(s,a) + lr [R(s,a) + gamma * max Q(s',a') - Q(s,a)]\n",
    "            Qtable[state][action] = Qtable[state][action] + learning_rate * (\n",
    "                reward + gamma * np.max(Qtable[new_state]) - Qtable[state][action]\n",
    "            )\n",
    "\n",
    "            # If terminated or truncated finish the episode\n",
    "            if terminated or truncated:\n",
    "                break\n",
    "\n",
    "            # Our next state is the new state\n",
    "            state = new_state\n",
    "            \n",
    "    return Qtable"
   ]
  },
  {
   "cell_type": "code",
   "execution_count": 99,
   "metadata": {},
   "outputs": [
    {
     "data": {
      "application/vnd.jupyter.widget-view+json": {
       "model_id": "27b1ced7398948f2b7fe3043c32b4f10",
       "version_major": 2,
       "version_minor": 0
      },
      "text/plain": [
       "  0%|          | 0/10000 [00:00<?, ?it/s]"
      ]
     },
     "metadata": {},
     "output_type": "display_data"
    }
   ],
   "source": [
    "Qtable_frozenlake = train_boltzmann(\n",
    "    n_training_episodes, \n",
    "    min_temp, \n",
    "    init_temp, \n",
    "    temp_decay, \n",
    "    env, \n",
    "    max_steps, \n",
    "    Qtable_frozenlake,\n",
    "    learning_rate,\n",
    "    gamma\n",
    ")"
   ]
  },
  {
   "cell_type": "code",
   "execution_count": 100,
   "metadata": {},
   "outputs": [],
   "source": [
    "def greedy_policy(Qtable, state):\n",
    "  # Exploitation: take the action with the highest state, action value\n",
    "  action = np.argmax(Qtable[state][:])\n",
    "\n",
    "  return action"
   ]
  },
  {
   "cell_type": "code",
   "execution_count": 101,
   "metadata": {},
   "outputs": [],
   "source": [
    "def evaluate_agent(env, max_steps, n_eval_episodes, Q, seed):\n",
    "  \"\"\"\n",
    "  Evaluate the agent for ``n_eval_episodes`` episodes and returns average reward and std of reward.\n",
    "  :param env: The evaluation environment\n",
    "  :param max_steps: Maximum number of steps per episode\n",
    "  :param n_eval_episodes: Number of episode to evaluate the agent\n",
    "  :param Q: The Q-table\n",
    "  :param seed: The evaluation seed array (for taxi-v3)\n",
    "  \"\"\"\n",
    "  episode_rewards = []\n",
    "  for episode in tqdm(range(n_eval_episodes)):\n",
    "    if seed:\n",
    "      state, info = env.reset(seed=seed[episode])\n",
    "    else:\n",
    "      state, info = env.reset()\n",
    "    step = 0\n",
    "    truncated = False\n",
    "    terminated = False\n",
    "    total_rewards_ep = 0\n",
    "\n",
    "    for step in range(max_steps):\n",
    "      # Take the action (index) that have the maximum expected future reward given that state\n",
    "      action = greedy_policy(Q, state)\n",
    "      new_state, reward, terminated, truncated, info = env.step(action)\n",
    "      total_rewards_ep += reward\n",
    "\n",
    "      if terminated or truncated:\n",
    "        break\n",
    "      state = new_state\n",
    "    episode_rewards.append(total_rewards_ep)\n",
    "  mean_reward = np.mean(episode_rewards)\n",
    "  std_reward = np.std(episode_rewards)\n",
    "\n",
    "  return mean_reward, std_reward"
   ]
  },
  {
   "cell_type": "code",
   "execution_count": 102,
   "metadata": {},
   "outputs": [
    {
     "data": {
      "application/vnd.jupyter.widget-view+json": {
       "model_id": "905d9f8bf19d406db7bf766d5c1aad3c",
       "version_major": 2,
       "version_minor": 0
      },
      "text/plain": [
       "  0%|          | 0/1000 [00:00<?, ?it/s]"
      ]
     },
     "metadata": {},
     "output_type": "display_data"
    },
    {
     "name": "stdout",
     "output_type": "stream",
     "text": [
      "Mean_reward=0.73 +/- 0.44\n"
     ]
    }
   ],
   "source": [
    "# Evaluate our Agent\n",
    "mean_reward, std_reward = evaluate_agent(env, max_steps, n_eval_episodes, Qtable_frozenlake, eval_seed)\n",
    "print(f\"Mean_reward={mean_reward:.2f} +/- {std_reward:.2f}\")"
   ]
  }
 ],
 "metadata": {
  "kernelspec": {
   "display_name": "Python (myenv)",
   "language": "python",
   "name": "myenv"
  },
  "language_info": {
   "codemirror_mode": {
    "name": "ipython",
    "version": 3
   },
   "file_extension": ".py",
   "mimetype": "text/x-python",
   "name": "python",
   "nbconvert_exporter": "python",
   "pygments_lexer": "ipython3",
   "version": "3.10.12"
  }
 },
 "nbformat": 4,
 "nbformat_minor": 2
}
